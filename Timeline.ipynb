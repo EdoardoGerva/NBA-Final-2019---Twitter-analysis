{
 "cells": [
  {
   "cell_type": "markdown",
   "metadata": {},
   "source": [
    "# Carico i dataset della timeline e delle statistiche"
   ]
  },
  {
   "cell_type": "code",
   "execution_count": 3,
   "metadata": {},
   "outputs": [],
   "source": [
    "from __future__ import absolute_import, print_function\n",
    "import tweepy\n",
    "from tweepy import OAuthHandler\n",
    "from tweepy import Stream\n",
    "import json\n",
    "from pymongo import MongoClient\n",
    "import numpy as np\n",
    "import pandas as pd\n",
    "import re\n",
    "import math\n",
    "import time\n",
    "import calendar\n",
    "import datetime\n",
    "import matplotlib\n",
    "import matplotlib.pyplot as plt"
   ]
  },
  {
   "cell_type": "code",
   "execution_count": null,
   "metadata": {},
   "outputs": [],
   "source": [
    "tl = pd.read_excel('C:/Users/user1/Desktop/Università/Data Management/datiNBA/TimelineDataset.xlsx')\n",
    "tl = pd.DataFrame(tl.drop([0,1], axis = 0)).reset_index(drop=True)\n",
    "tl.columns = [ 'Time', 'Toronto', 'TorontoScore', 'Score', 'GoldenStateScore', 'Golden State']\n",
    "tl"
   ]
  },
  {
   "cell_type": "code",
   "execution_count": null,
   "metadata": {
    "scrolled": true
   },
   "outputs": [],
   "source": [
    "bs1 = pd.read_csv('C:/Users/user1/Desktop/Università/Data Management/datiNBA/BasicStatRaptors.csv', sep=';')\n",
    "bs4 = pd.read_csv('C:/Users/user1/Desktop/Università/Data Management/datiNBA/AdvStatWarriors.csv', sep=';')\n",
    "bs3 = pd.read_csv('C:/Users/user1/Desktop/Università/Data Management/datiNBA/BasicStatWarriors.csv', sep=';')\n",
    "bs2 = pd.read_csv('C:/Users/user1/Desktop/Università/Data Management/datiNBA/AdvStatRaptors.csv', sep=';')"
   ]
  },
  {
   "cell_type": "code",
   "execution_count": null,
   "metadata": {},
   "outputs": [],
   "source": [
    "#aggiusto i nomi delle colonne\n",
    "bs1.columns = bs1.iloc[0]\n",
    "bs2.columns = bs2.iloc[0]\n",
    "bs3.columns = bs3.iloc[0]\n",
    "bs4.columns = bs4.iloc[0]"
   ]
  },
  {
   "cell_type": "code",
   "execution_count": null,
   "metadata": {},
   "outputs": [],
   "source": [
    "#elimino le osservazioni non interessanti\n",
    "bs1 = bs1.loc[1:6,:]\n",
    "bs1=bs1.drop(bs1.index[4]).reset_index(drop=True)\n",
    "bs2 = bs2.loc[1:6,:]\n",
    "bs2=bs2.drop(bs2.index[4]).reset_index(drop=True)\n",
    "\n",
    "bs3 = bs3.loc[1:5,:]\n",
    "bs4 = bs4.loc[1:5,:]"
   ]
  }
 ],
 "metadata": {
  "kernelspec": {
   "display_name": "Python 3",
   "language": "python",
   "name": "python3"
  },
  "language_info": {
   "codemirror_mode": {
    "name": "ipython",
    "version": 3
   },
   "file_extension": ".py",
   "mimetype": "text/x-python",
   "name": "python",
   "nbconvert_exporter": "python",
   "pygments_lexer": "ipython3",
   "version": "3.8.8"
  }
 },
 "nbformat": 4,
 "nbformat_minor": 2
}
