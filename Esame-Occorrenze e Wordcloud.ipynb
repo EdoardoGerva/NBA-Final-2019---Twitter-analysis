{
 "cells": [
  {
   "cell_type": "markdown",
   "metadata": {},
   "source": [
    "# Analisi e occorrenze delle parole contenute nei tweet"
   ]
  },
  {
   "cell_type": "code",
   "execution_count": null,
   "metadata": {},
   "outputs": [],
   "source": [
    "import preprocessor as p #libreria per preprocessing di tweet (rimuove url etc)\n",
    "from __future__ import absolute_import, print_function\n",
    "import tweepy\n",
    "from tweepy import OAuthHandler\n",
    "from tweepy import Stream\n",
    "import json\n",
    "from pymongo import MongoClient\n",
    "import numpy as np\n",
    "import pandas as pd\n",
    "import re\n",
    "import math\n",
    "import time\n",
    "import calendar\n",
    "import datetime\n",
    "import matplotlib\n",
    "\n",
    "du = pd.read_csv('usefuldata.csv') #file dei tweet preprocessati"
   ]
  },
  {
   "cell_type": "code",
   "execution_count": null,
   "metadata": {},
   "outputs": [],
   "source": [
    "du2 = du['text']\n",
    "du2 = [p.clean(x) for x in du2] #uso funzione clean per pulire i tweet \n",
    "du2 = str(du2) #trasformo in stringa\n",
    "\n",
    "file = open('du2.txt','w') #apro il file vuoto creato nella directory per scrivere (w,write)\n",
    "file.write(du2) #ci sovrascrivo il file du2 composto da stringhe\n",
    "file.close()"
   ]
  },
  {
   "cell_type": "code",
   "execution_count": null,
   "metadata": {},
   "outputs": [],
   "source": [
    "import collections\n",
    "import matplotlib.pyplot as plt\n",
    "%matplotlib inline\n",
    "\n",
    "\n",
    "# Read input file, note the encoding is specified here \n",
    "# It may be different in your text file\n",
    "file = open('du2.txt', encoding=\"utf8\") #apro il file\n",
    "a= file.read() #leggo il file\n",
    "\n",
    "# Stopwords\n",
    "#stopwords = set(line.strip() for line in open('stopwords.txt'))\n",
    "stopwords = ['the','for','and','this','that','with','que','are','you','nan','out','all'] \n",
    "\n",
    "# Instantiate a dictionary, and for every word in the file, \n",
    "# Add to the dictionary if it doesn't exist. If it does, increase the count.\n",
    "wordcount = {}\n",
    "# To eliminate duplicates, remember to split by punctuation, and use case demiliters.\n",
    "for word in a.lower().split():\n",
    "    word = word.replace(\".\",\"\")\n",
    "    word = word.replace(\",\",\"\")\n",
    "    word = word.replace(\":\",\"\")\n",
    "    word = word.replace(\"\\\"\",\"\")\n",
    "    word = word.replace(\"!\",\"\")\n",
    "    word = word.replace(\"â€œ\",\"\")\n",
    "    word = word.replace(\"â€˜\",\"\")\n",
    "    word = word.replace(\"*\",\"\")\n",
    "    word = word.replace(\"'\",\"\")\n",
    "    word = word.replace(\"&amp;\",\"\")\n",
    "    if len(word) >= 3:\n",
    "        if word not in stopwords:\n",
    "            if word not in wordcount:\n",
    "                    wordcount[word] = 1\n",
    "            else:\n",
    "                wordcount[word] += 1\n",
    "                \n",
    "# Print most common word\n",
    "n_print = int(input(\"How many most common words to print: \"))\n",
    "print(\"\\nOK. The {} most common words are as follows\\n\".format(n_print))\n",
    "word_counter = collections.Counter(wordcount)\n",
    "for word, count in word_counter.most_common(n_print):\n",
    "    print(word, \": \", count)\n",
    "# Close the file\n",
    "file.close()\n",
    "# Create a data frame of the most common words \n",
    "# Draw a bar chart\n",
    "lst = word_counter.most_common(n_print)\n",
    "df = pd.DataFrame(lst, columns = ['Word', 'Count'])\n",
    "df.plot.bar(x='Word',y='Count')"
   ]
  },
  {
   "cell_type": "code",
   "execution_count": null,
   "metadata": {},
   "outputs": [],
   "source": [
    "#salvo i conteggi così ottenuti in un file .csv\n",
    "\n",
    "df.to_csv(r'C:/Users/user1/Desktop/Università/Data Management/datiNBA/occurences.csv',index=True)"
   ]
  },
  {
   "cell_type": "markdown",
   "metadata": {},
   "source": [
    "# Wordcloud"
   ]
  },
  {
   "cell_type": "code",
   "execution_count": null,
   "metadata": {},
   "outputs": [],
   "source": [
    "#librerie necessarie per wordcloud\n",
    "from os import path\n",
    "from PIL import Image\n",
    "from wordcloud import WordCloud, STOPWORDS, ImageColorGenerator\n",
    "import nltk\n",
    "from nltk.corpus import webtext\n",
    "from nltk.probability import FreqDist"
   ]
  },
  {
   "cell_type": "code",
   "execution_count": null,
   "metadata": {},
   "outputs": [],
   "source": [
    "du2 = du['text']\n",
    "text = \" \".join(str(tweet) for tweet in du2) #aggiungo tutti i tweet in var text\n",
    "print (\"There are {} words in the combination of all tweets.\".format(len(text)))"
   ]
  },
  {
   "cell_type": "code",
   "execution_count": null,
   "metadata": {},
   "outputs": [],
   "source": [
    "mask = np.array(Image.open(\"bb.jpeg\")) #carico foto come mask e converto in np.array"
   ]
  },
  {
   "cell_type": "code",
   "execution_count": null,
   "metadata": {},
   "outputs": [],
   "source": [
    "#genero wordcloud con sfondo nero, parole max 2000, font min 7, mappa colore Arancio/Rosso\n",
    "\n",
    "stopwords2 = ['the','for','and','this','that','with','que','are','you','nan','out','all'] \n",
    "\n",
    "wordcloud = WordCloud(background_color='black', mode=\"RGBA\", \n",
    "                      max_words=5000, mask=mask, min_font_size = 7, colormap='OrRd',\n",
    "                      relative_scaling=0,collocations=False,\n",
    "                      normalize_plurals=False,regexp=r'\\b\\w{3,}\\b',stopwords=stopwords2).generate(text)\n",
    "                      \n",
    "#creo immagine\n",
    "image_colors = ImageColorGenerator(mask)\n",
    "plt.figure(figsize=[20,20]) #dimensione\n",
    "plt.imshow(wordcloud.recolor(color_func=image_colors), interpolation=\"bilinear\")\n",
    "plt.axis(\"off\")\n",
    "\n",
    "#salva file in directory\n",
    "plt.savefig(\"bb-18.png\", format=\"png\") \n",
    "\n",
    "plt.show()"
   ]
  }
 ],
 "metadata": {
  "kernelspec": {
   "display_name": "Python 3",
   "language": "python",
   "name": "python3"
  },
  "language_info": {
   "codemirror_mode": {
    "name": "ipython",
    "version": 3
   },
   "file_extension": ".py",
   "mimetype": "text/x-python",
   "name": "python",
   "nbconvert_exporter": "python",
   "pygments_lexer": "ipython3",
   "version": "3.6.8"
  }
 },
 "nbformat": 4,
 "nbformat_minor": 2
}
